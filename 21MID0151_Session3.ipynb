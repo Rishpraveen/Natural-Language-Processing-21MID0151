{
 "cells": [
  {
   "cell_type": "code",
   "execution_count": 1,
   "id": "9bbb2023-79f3-4e2c-8cb4-bcdc1516f0e4",
   "metadata": {},
   "outputs": [],
   "source": [
    "#07-02-25"
   ]
  },
  {
   "cell_type": "code",
   "execution_count": 2,
   "id": "460b3fe9-38d1-49d2-84e4-c7c2a751568b",
   "metadata": {},
   "outputs": [],
   "source": [
    "import nltk\n",
    "f=open('tweets1.txt','r')"
   ]
  },
  {
   "cell_type": "raw",
   "id": "b164185e-24b6-43c8-a980-cc7006772639",
   "metadata": {
    "vscode": {
     "languageId": "raw"
    }
   },
   "source": [
    "text=f.read()\n",
    "text1=text.split()\n",
    "# text2=nltk.Text(text1)"
   ]
  },
  {
   "cell_type": "code",
   "execution_count": 15,
   "id": "e98f3861-35ef-4b12-8a15-e0fb677ce32a",
   "metadata": {},
   "outputs": [],
   "source": [
    "# text2.concordance(\"the\") #giving a words 10 words before and after one searching technique"
   ]
  },
  {
   "cell_type": "code",
   "execution_count": 4,
   "id": "5fe598be-b23f-4181-b127-47a39a0da538",
   "metadata": {},
   "outputs": [],
   "source": [
    "from urllib import request"
   ]
  },
  {
   "cell_type": "code",
   "execution_count": 5,
   "id": "ffa2d151-2571-40e8-a6f7-411e216ffbd5",
   "metadata": {},
   "outputs": [],
   "source": [
    "url=\"http://www.gutenberg.org/files/2554/2554-0.txt\""
   ]
  },
  {
   "cell_type": "code",
   "execution_count": 6,
   "id": "fa688e25-de3b-48b9-a715-c38d6f0fd93d",
   "metadata": {},
   "outputs": [],
   "source": [
    "response=request.urlopen(url)"
   ]
  },
  {
   "cell_type": "code",
   "execution_count": 7,
   "id": "c34034dc-2039-4891-bda6-870dee218686",
   "metadata": {},
   "outputs": [],
   "source": [
    "raw=response.read().decode('utf8')"
   ]
  },
  {
   "cell_type": "code",
   "execution_count": 8,
   "id": "a855e1ea-115a-44b0-b838-deadd581431c",
   "metadata": {},
   "outputs": [
    {
     "data": {
      "text/plain": [
       "str"
      ]
     },
     "execution_count": 8,
     "metadata": {},
     "output_type": "execute_result"
    }
   ],
   "source": [
    "type(raw)"
   ]
  },
  {
   "cell_type": "code",
   "execution_count": 9,
   "id": "429f6c9d-f551-487f-927f-903c30d43503",
   "metadata": {},
   "outputs": [
    {
     "data": {
      "text/plain": [
       "1135214"
      ]
     },
     "execution_count": 9,
     "metadata": {},
     "output_type": "execute_result"
    }
   ],
   "source": [
    "len(raw)"
   ]
  },
  {
   "cell_type": "code",
   "execution_count": 10,
   "id": "2564ddd2-041a-42c1-ae38-2f07b641f67b",
   "metadata": {},
   "outputs": [
    {
     "data": {
      "text/plain": [
       "'*** START OF THE PROJECT GUTENBERG EBOOK 2554 ***\\n\\n\\n\\n\\nCRIME AND PUNISHMENT\\n'"
      ]
     },
     "execution_count": 10,
     "metadata": {},
     "output_type": "execute_result"
    }
   ],
   "source": [
    "raw[:75]"
   ]
  },
  {
   "cell_type": "code",
   "execution_count": 11,
   "id": "ddc58b15-9cec-47a3-9fac-0350220e668f",
   "metadata": {},
   "outputs": [],
   "source": [
    "# HTML -> ASCII -> TEXT -> VOCAB"
   ]
  },
  {
   "cell_type": "code",
   "execution_count": 12,
   "id": "b40fdfc7-25db-49c2-a983-0175228ce618",
   "metadata": {},
   "outputs": [],
   "source": [
    "from nltk.tokenize import word_tokenize\n",
    "token=word_tokenize(raw)"
   ]
  },
  {
   "cell_type": "code",
   "execution_count": 13,
   "id": "1373db24-8f38-4c12-beb0-00bd7125252a",
   "metadata": {},
   "outputs": [
    {
     "data": {
      "text/plain": [
       "list"
      ]
     },
     "execution_count": 13,
     "metadata": {},
     "output_type": "execute_result"
    }
   ],
   "source": [
    "type(token)"
   ]
  },
  {
   "cell_type": "code",
   "execution_count": 14,
   "id": "e8290703-1c4b-44f1-ad81-09e3e75b9908",
   "metadata": {},
   "outputs": [
    {
     "data": {
      "text/plain": [
       "253688"
      ]
     },
     "execution_count": 14,
     "metadata": {},
     "output_type": "execute_result"
    }
   ],
   "source": [
    "len(token)"
   ]
  }
 ],
 "metadata": {
  "kernelspec": {
   "display_name": "Python 3",
   "language": "python",
   "name": "python3"
  },
  "language_info": {
   "codemirror_mode": {
    "name": "ipython",
    "version": 3
   },
   "file_extension": ".py",
   "mimetype": "text/x-python",
   "name": "python",
   "nbconvert_exporter": "python",
   "pygments_lexer": "ipython3",
   "version": "3.12.5"
  }
 },
 "nbformat": 4,
 "nbformat_minor": 5
}
